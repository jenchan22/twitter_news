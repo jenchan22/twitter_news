{
 "cells": [
  {
   "cell_type": "markdown",
   "id": "0406f2e8",
   "metadata": {},
   "source": [
    "# Machine Learning\n",
    "Using the data collected, I wanted to build a machine learning model using supervised learning that can predict the income level of the countries mentioned in the tweet, based on the level of engagements. However, since different Twitter news accounts have different levels of engagements based on the number of followers, thus, it wouldn't make to merge all the data today. Instead, I will focus on running this on the CNN account"
   ]
  },
  {
   "cell_type": "code",
   "execution_count": 976,
   "id": "5219f277",
   "metadata": {},
   "outputs": [],
   "source": [
    "import pandas as pd\n",
    "from sklearn import tree\n",
    "from matplotlib import pyplot as plt"
   ]
  },
  {
   "cell_type": "code",
   "execution_count": 977,
   "id": "e2e6786d",
   "metadata": {},
   "outputs": [],
   "source": [
    "cnn_df = pd.read_csv(\"CNN Breaking News.csv\") #read csv data"
   ]
  },
  {
   "cell_type": "code",
   "execution_count": 978,
   "id": "688f4c27",
   "metadata": {},
   "outputs": [],
   "source": [
    "cnn_df = cnn_df[[\"# Reactions\",\"Final Countries\"]]"
   ]
  },
  {
   "cell_type": "code",
   "execution_count": 979,
   "id": "0a5f4426",
   "metadata": {},
   "outputs": [],
   "source": [
    "index_lis = []\n",
    "for index in range(0,len(cnn_df)): #itterate through all countries in the dataframe\n",
    "    country = cnn_df.at[index, \"Final Countries\"]\n",
    "           \n",
    "    if country == \"['']\":\n",
    "        index_lis.append(index)\n",
    "    \n",
    "    country = country.replace(\"[\",\"\").replace(\"]\",\"\")\n",
    "    lis = country.split(\",\")\n",
    "\n",
    "    final_countries_list = []\n",
    "    for i in lis:\n",
    "        i = i.strip().replace(\"'\",\"\").replace(\"''\",\"\")\n",
    "        final_countries_list.append(i)\n",
    "    \n",
    "    if len(final_countries_list) != 1:\n",
    "        index_lis.append(index)\n"
   ]
  },
  {
   "cell_type": "code",
   "execution_count": 980,
   "id": "28ef8ec0",
   "metadata": {},
   "outputs": [],
   "source": [
    "cnn_df = cnn_df.drop(cnn_df.index[index_lis]).reset_index()"
   ]
  },
  {
   "cell_type": "code",
   "execution_count": 981,
   "id": "86c46fd7",
   "metadata": {},
   "outputs": [
    {
     "data": {
      "text/html": [
       "<div>\n",
       "<style scoped>\n",
       "    .dataframe tbody tr th:only-of-type {\n",
       "        vertical-align: middle;\n",
       "    }\n",
       "\n",
       "    .dataframe tbody tr th {\n",
       "        vertical-align: top;\n",
       "    }\n",
       "\n",
       "    .dataframe thead th {\n",
       "        text-align: right;\n",
       "    }\n",
       "</style>\n",
       "<table border=\"1\" class=\"dataframe\">\n",
       "  <thead>\n",
       "    <tr style=\"text-align: right;\">\n",
       "      <th></th>\n",
       "      <th>index</th>\n",
       "      <th># Reactions</th>\n",
       "      <th>Final Countries</th>\n",
       "    </tr>\n",
       "  </thead>\n",
       "  <tbody>\n",
       "    <tr>\n",
       "      <th>0</th>\n",
       "      <td>0</td>\n",
       "      <td>344</td>\n",
       "      <td>['Australia']</td>\n",
       "    </tr>\n",
       "    <tr>\n",
       "      <th>1</th>\n",
       "      <td>1</td>\n",
       "      <td>1280</td>\n",
       "      <td>['United States']</td>\n",
       "    </tr>\n",
       "    <tr>\n",
       "      <th>2</th>\n",
       "      <td>2</td>\n",
       "      <td>1545</td>\n",
       "      <td>['Netherlands']</td>\n",
       "    </tr>\n",
       "    <tr>\n",
       "      <th>3</th>\n",
       "      <td>3</td>\n",
       "      <td>1579</td>\n",
       "      <td>['France']</td>\n",
       "    </tr>\n",
       "    <tr>\n",
       "      <th>4</th>\n",
       "      <td>6</td>\n",
       "      <td>4923</td>\n",
       "      <td>['United States']</td>\n",
       "    </tr>\n",
       "    <tr>\n",
       "      <th>...</th>\n",
       "      <td>...</td>\n",
       "      <td>...</td>\n",
       "      <td>...</td>\n",
       "    </tr>\n",
       "    <tr>\n",
       "      <th>2584</th>\n",
       "      <td>3195</td>\n",
       "      <td>824</td>\n",
       "      <td>['United States']</td>\n",
       "    </tr>\n",
       "    <tr>\n",
       "      <th>2585</th>\n",
       "      <td>3196</td>\n",
       "      <td>1223</td>\n",
       "      <td>['United Kingdom']</td>\n",
       "    </tr>\n",
       "    <tr>\n",
       "      <th>2586</th>\n",
       "      <td>3197</td>\n",
       "      <td>887</td>\n",
       "      <td>['United Kingdom']</td>\n",
       "    </tr>\n",
       "    <tr>\n",
       "      <th>2587</th>\n",
       "      <td>3198</td>\n",
       "      <td>864</td>\n",
       "      <td>['United States']</td>\n",
       "    </tr>\n",
       "    <tr>\n",
       "      <th>2588</th>\n",
       "      <td>3199</td>\n",
       "      <td>724</td>\n",
       "      <td>['United States']</td>\n",
       "    </tr>\n",
       "  </tbody>\n",
       "</table>\n",
       "<p>2589 rows × 3 columns</p>\n",
       "</div>"
      ],
      "text/plain": [
       "      index  # Reactions     Final Countries\n",
       "0         0          344       ['Australia']\n",
       "1         1         1280   ['United States']\n",
       "2         2         1545     ['Netherlands']\n",
       "3         3         1579          ['France']\n",
       "4         6         4923   ['United States']\n",
       "...     ...          ...                 ...\n",
       "2584   3195          824   ['United States']\n",
       "2585   3196         1223  ['United Kingdom']\n",
       "2586   3197          887  ['United Kingdom']\n",
       "2587   3198          864   ['United States']\n",
       "2588   3199          724   ['United States']\n",
       "\n",
       "[2589 rows x 3 columns]"
      ]
     },
     "execution_count": 981,
     "metadata": {},
     "output_type": "execute_result"
    }
   ],
   "source": [
    "cnn_df"
   ]
  },
  {
   "cell_type": "code",
   "execution_count": 982,
   "id": "a09c882e",
   "metadata": {},
   "outputs": [],
   "source": [
    "cnn_df[\"Income Level\"] = \"\""
   ]
  },
  {
   "cell_type": "markdown",
   "id": "181e36f9",
   "metadata": {},
   "source": [
    "Drop all rows without a country mentioned"
   ]
  },
  {
   "cell_type": "code",
   "execution_count": 987,
   "id": "a4ec7b85",
   "metadata": {},
   "outputs": [],
   "source": [
    "for index in range(0,len(cnn_df)): #itterate through all countries in the dataframe\n",
    "    country = cnn_df.at[index,\"Final Countries\"]\n",
    "    country = country.replace(\"[\",\"\").replace(\"]\",\"\")\n",
    "    \n",
    "    lis = country.split(\",\")\n",
    "\n",
    "    final_countries_list = []\n",
    "    for i in lis:\n",
    "        i = i.strip().replace(\"'\",\"\").replace(\"''\",\"\")\n",
    "        final_countries_list.append(i)\n",
    "    country = final_countries_list[0]\n",
    "    cnn_df.at[index,\"Final Countries\"] = country\n",
    "    try:\n",
    "        country_income = wbdata.search_countries(country)[0][\"incomeLevel\"][\"value\"] \n",
    "        cnn_df.at[index,\"Income Level\"] = country_income\n",
    "    except:\n",
    "        pass"
   ]
  },
  {
   "cell_type": "code",
   "execution_count": 988,
   "id": "b0db0877",
   "metadata": {},
   "outputs": [
    {
     "data": {
      "text/html": [
       "<div>\n",
       "<style scoped>\n",
       "    .dataframe tbody tr th:only-of-type {\n",
       "        vertical-align: middle;\n",
       "    }\n",
       "\n",
       "    .dataframe tbody tr th {\n",
       "        vertical-align: top;\n",
       "    }\n",
       "\n",
       "    .dataframe thead th {\n",
       "        text-align: right;\n",
       "    }\n",
       "</style>\n",
       "<table border=\"1\" class=\"dataframe\">\n",
       "  <thead>\n",
       "    <tr style=\"text-align: right;\">\n",
       "      <th></th>\n",
       "      <th>index</th>\n",
       "      <th># Reactions</th>\n",
       "      <th>Final Countries</th>\n",
       "      <th>Income Level</th>\n",
       "    </tr>\n",
       "  </thead>\n",
       "  <tbody>\n",
       "    <tr>\n",
       "      <th>0</th>\n",
       "      <td>0</td>\n",
       "      <td>344</td>\n",
       "      <td>Australia</td>\n",
       "      <td>High income</td>\n",
       "    </tr>\n",
       "    <tr>\n",
       "      <th>1</th>\n",
       "      <td>1</td>\n",
       "      <td>1280</td>\n",
       "      <td>United States</td>\n",
       "      <td>High income</td>\n",
       "    </tr>\n",
       "    <tr>\n",
       "      <th>2</th>\n",
       "      <td>2</td>\n",
       "      <td>1545</td>\n",
       "      <td>Netherlands</td>\n",
       "      <td>High income</td>\n",
       "    </tr>\n",
       "    <tr>\n",
       "      <th>3</th>\n",
       "      <td>3</td>\n",
       "      <td>1579</td>\n",
       "      <td>France</td>\n",
       "      <td>High income</td>\n",
       "    </tr>\n",
       "    <tr>\n",
       "      <th>4</th>\n",
       "      <td>6</td>\n",
       "      <td>4923</td>\n",
       "      <td>United States</td>\n",
       "      <td>High income</td>\n",
       "    </tr>\n",
       "    <tr>\n",
       "      <th>...</th>\n",
       "      <td>...</td>\n",
       "      <td>...</td>\n",
       "      <td>...</td>\n",
       "      <td>...</td>\n",
       "    </tr>\n",
       "    <tr>\n",
       "      <th>2584</th>\n",
       "      <td>3195</td>\n",
       "      <td>824</td>\n",
       "      <td>United States</td>\n",
       "      <td>High income</td>\n",
       "    </tr>\n",
       "    <tr>\n",
       "      <th>2585</th>\n",
       "      <td>3196</td>\n",
       "      <td>1223</td>\n",
       "      <td>United Kingdom</td>\n",
       "      <td>High income</td>\n",
       "    </tr>\n",
       "    <tr>\n",
       "      <th>2586</th>\n",
       "      <td>3197</td>\n",
       "      <td>887</td>\n",
       "      <td>United Kingdom</td>\n",
       "      <td>High income</td>\n",
       "    </tr>\n",
       "    <tr>\n",
       "      <th>2587</th>\n",
       "      <td>3198</td>\n",
       "      <td>864</td>\n",
       "      <td>United States</td>\n",
       "      <td>High income</td>\n",
       "    </tr>\n",
       "    <tr>\n",
       "      <th>2588</th>\n",
       "      <td>3199</td>\n",
       "      <td>724</td>\n",
       "      <td>United States</td>\n",
       "      <td>High income</td>\n",
       "    </tr>\n",
       "  </tbody>\n",
       "</table>\n",
       "<p>2589 rows × 4 columns</p>\n",
       "</div>"
      ],
      "text/plain": [
       "      index  # Reactions Final Countries Income Level\n",
       "0         0          344       Australia  High income\n",
       "1         1         1280   United States  High income\n",
       "2         2         1545     Netherlands  High income\n",
       "3         3         1579          France  High income\n",
       "4         6         4923   United States  High income\n",
       "...     ...          ...             ...          ...\n",
       "2584   3195          824   United States  High income\n",
       "2585   3196         1223  United Kingdom  High income\n",
       "2586   3197          887  United Kingdom  High income\n",
       "2587   3198          864   United States  High income\n",
       "2588   3199          724   United States  High income\n",
       "\n",
       "[2589 rows x 4 columns]"
      ]
     },
     "execution_count": 988,
     "metadata": {},
     "output_type": "execute_result"
    }
   ],
   "source": [
    "cnn_df"
   ]
  },
  {
   "cell_type": "markdown",
   "id": "1ea1d4be",
   "metadata": {},
   "source": [
    "## Extract the income level of the countries\n",
    "This part uses the world bank wbdata library based on the World Bank Data. It takes in the country and finds the income level according to the World Bank's metrics on GNI per capita of the country. "
   ]
  },
  {
   "cell_type": "code",
   "execution_count": 989,
   "id": "6c4d4029",
   "metadata": {},
   "outputs": [],
   "source": [
    "import wbdata "
   ]
  },
  {
   "cell_type": "code",
   "execution_count": 1003,
   "id": "ce3da1f8",
   "metadata": {},
   "outputs": [],
   "source": [
    "\"\"\"This function uses the library pycountry to find the continent of the country.\"\"\"\n",
    "import pycountry_convert as pc\n",
    "\n",
    "def country_to_continent(country_name):\n",
    "    try:\n",
    "        country_alpha2 = pc.country_name_to_country_alpha2(country_name)\n",
    "        country_continent_code = pc.country_alpha2_to_continent_code(country_alpha2) #continent code\n",
    "        country_continent_name = pc.convert_continent_code_to_continent_name(country_continent_code) #continent name\n",
    "        \n",
    "    except:\n",
    "        pass\n",
    "\n",
    "    return country_continent_name"
   ]
  },
  {
   "cell_type": "markdown",
   "id": "37f26781",
   "metadata": {},
   "source": [
    "To make a more accurate model, I add it the variable Continent for each country."
   ]
  },
  {
   "cell_type": "code",
   "execution_count": 1024,
   "id": "5aeb6edd",
   "metadata": {},
   "outputs": [],
   "source": [
    "\"\"\"Iterate through the dataframe to find the continent of each country\"\"\"\n",
    "cnn_df[\"Continents\"] = \"\"\n",
    "for index in range(0,len(cnn_df)):\n",
    "    country = cnn_df.at[index, \"Final Countries\"]\n",
    "    try:\n",
    "        country_alpha2 = pc.country_name_to_country_alpha2(country)\n",
    "        country_continent_code = pc.country_alpha2_to_continent_code(country_alpha2)\n",
    "        country_continent_name = pc.convert_continent_code_to_continent_name(country_continent_code) \n",
    "    except:\n",
    "        pass\n",
    "    cnn_df.at[index,\"Continents\"] = country_continent_name\n"
   ]
  },
  {
   "cell_type": "code",
   "execution_count": 1028,
   "id": "aec4607f",
   "metadata": {},
   "outputs": [],
   "source": [
    "cnn_df = cnn_df[cnn_df['Continents'].map(lambda d: d[0]) != \"None\"] #drop rows if can't find continent"
   ]
  },
  {
   "cell_type": "code",
   "execution_count": 1029,
   "id": "bc8e0718",
   "metadata": {},
   "outputs": [],
   "source": [
    "cnn_df.to_csv(\"CNN ML.csv\") #export to csv to save data"
   ]
  },
  {
   "cell_type": "code",
   "execution_count": 782,
   "id": "75920870",
   "metadata": {},
   "outputs": [],
   "source": [
    "#cnn_df = pd.read_csv(\"CNN ML.csv\")"
   ]
  },
  {
   "cell_type": "markdown",
   "id": "7b36d2a1",
   "metadata": {},
   "source": [
    "# Build a DecisionTree Classifier\n",
    "This section builds a decision tree that uses supervised learning, to predict the income level of the country"
   ]
  },
  {
   "cell_type": "code",
   "execution_count": 1030,
   "id": "85621fb3",
   "metadata": {},
   "outputs": [],
   "source": [
    "\"\"\"\n",
    "Drop the two income levels (not classified & aggregates) that don't have countries\n",
    "\"\"\"\n",
    "cnn_df = cnn_df.drop(cnn_df[(cnn_df['Income Level'] == 'Not classified') | (cnn_df['Income Level'] == 'Aggregates') ].index).reset_index(drop=True)\n"
   ]
  },
  {
   "cell_type": "markdown",
   "id": "48c90dd5",
   "metadata": {},
   "source": [
    "## Simple DecisionTree Classifier (without training)"
   ]
  },
  {
   "cell_type": "code",
   "execution_count": 1154,
   "id": "b383a8f2",
   "metadata": {},
   "outputs": [],
   "source": [
    "#this is for building the numpy array for X\n",
    "df_x = cnn_df[[\"Continents\",\"# Reactions\"]]\n",
    "X = df_x.values"
   ]
  },
  {
   "cell_type": "code",
   "execution_count": 1155,
   "id": "7a21a10d",
   "metadata": {},
   "outputs": [],
   "source": [
    "y,class_names = pd.factorize(y)"
   ]
  },
  {
   "cell_type": "code",
   "execution_count": 1156,
   "id": "f1a5eaed",
   "metadata": {},
   "outputs": [],
   "source": [
    "relative = df_x[\"# Reactions\"]"
   ]
  },
  {
   "cell_type": "code",
   "execution_count": 1157,
   "id": "7335c1de",
   "metadata": {},
   "outputs": [],
   "source": [
    "df_x = pd.get_dummies(df_x[\"Continents\"]) #turn the continents to dummy variables"
   ]
  },
  {
   "cell_type": "code",
   "execution_count": 1158,
   "id": "767efd12",
   "metadata": {},
   "outputs": [
    {
     "data": {
      "text/html": [
       "<div>\n",
       "<style scoped>\n",
       "    .dataframe tbody tr th:only-of-type {\n",
       "        vertical-align: middle;\n",
       "    }\n",
       "\n",
       "    .dataframe tbody tr th {\n",
       "        vertical-align: top;\n",
       "    }\n",
       "\n",
       "    .dataframe thead th {\n",
       "        text-align: right;\n",
       "    }\n",
       "</style>\n",
       "<table border=\"1\" class=\"dataframe\">\n",
       "  <thead>\n",
       "    <tr style=\"text-align: right;\">\n",
       "      <th></th>\n",
       "      <th># Reactions</th>\n",
       "      <th>Africa</th>\n",
       "      <th>Asia</th>\n",
       "      <th>Europe</th>\n",
       "      <th>North America</th>\n",
       "      <th>Oceania</th>\n",
       "      <th>South America</th>\n",
       "    </tr>\n",
       "  </thead>\n",
       "  <tbody>\n",
       "    <tr>\n",
       "      <th>0</th>\n",
       "      <td>344</td>\n",
       "      <td>0</td>\n",
       "      <td>0</td>\n",
       "      <td>0</td>\n",
       "      <td>0</td>\n",
       "      <td>1</td>\n",
       "      <td>0</td>\n",
       "    </tr>\n",
       "    <tr>\n",
       "      <th>1</th>\n",
       "      <td>1280</td>\n",
       "      <td>0</td>\n",
       "      <td>0</td>\n",
       "      <td>0</td>\n",
       "      <td>1</td>\n",
       "      <td>0</td>\n",
       "      <td>0</td>\n",
       "    </tr>\n",
       "    <tr>\n",
       "      <th>2</th>\n",
       "      <td>1545</td>\n",
       "      <td>0</td>\n",
       "      <td>0</td>\n",
       "      <td>1</td>\n",
       "      <td>0</td>\n",
       "      <td>0</td>\n",
       "      <td>0</td>\n",
       "    </tr>\n",
       "    <tr>\n",
       "      <th>3</th>\n",
       "      <td>1579</td>\n",
       "      <td>0</td>\n",
       "      <td>0</td>\n",
       "      <td>1</td>\n",
       "      <td>0</td>\n",
       "      <td>0</td>\n",
       "      <td>0</td>\n",
       "    </tr>\n",
       "    <tr>\n",
       "      <th>4</th>\n",
       "      <td>4923</td>\n",
       "      <td>0</td>\n",
       "      <td>0</td>\n",
       "      <td>0</td>\n",
       "      <td>1</td>\n",
       "      <td>0</td>\n",
       "      <td>0</td>\n",
       "    </tr>\n",
       "    <tr>\n",
       "      <th>...</th>\n",
       "      <td>...</td>\n",
       "      <td>...</td>\n",
       "      <td>...</td>\n",
       "      <td>...</td>\n",
       "      <td>...</td>\n",
       "      <td>...</td>\n",
       "      <td>...</td>\n",
       "    </tr>\n",
       "    <tr>\n",
       "      <th>2578</th>\n",
       "      <td>824</td>\n",
       "      <td>0</td>\n",
       "      <td>0</td>\n",
       "      <td>0</td>\n",
       "      <td>1</td>\n",
       "      <td>0</td>\n",
       "      <td>0</td>\n",
       "    </tr>\n",
       "    <tr>\n",
       "      <th>2579</th>\n",
       "      <td>1223</td>\n",
       "      <td>0</td>\n",
       "      <td>0</td>\n",
       "      <td>1</td>\n",
       "      <td>0</td>\n",
       "      <td>0</td>\n",
       "      <td>0</td>\n",
       "    </tr>\n",
       "    <tr>\n",
       "      <th>2580</th>\n",
       "      <td>887</td>\n",
       "      <td>0</td>\n",
       "      <td>0</td>\n",
       "      <td>1</td>\n",
       "      <td>0</td>\n",
       "      <td>0</td>\n",
       "      <td>0</td>\n",
       "    </tr>\n",
       "    <tr>\n",
       "      <th>2581</th>\n",
       "      <td>864</td>\n",
       "      <td>0</td>\n",
       "      <td>0</td>\n",
       "      <td>0</td>\n",
       "      <td>1</td>\n",
       "      <td>0</td>\n",
       "      <td>0</td>\n",
       "    </tr>\n",
       "    <tr>\n",
       "      <th>2582</th>\n",
       "      <td>724</td>\n",
       "      <td>0</td>\n",
       "      <td>0</td>\n",
       "      <td>0</td>\n",
       "      <td>1</td>\n",
       "      <td>0</td>\n",
       "      <td>0</td>\n",
       "    </tr>\n",
       "  </tbody>\n",
       "</table>\n",
       "<p>2583 rows × 7 columns</p>\n",
       "</div>"
      ],
      "text/plain": [
       "      # Reactions  Africa  Asia  Europe  North America  Oceania  South America\n",
       "0             344       0     0       0              0        1              0\n",
       "1            1280       0     0       0              1        0              0\n",
       "2            1545       0     0       1              0        0              0\n",
       "3            1579       0     0       1              0        0              0\n",
       "4            4923       0     0       0              1        0              0\n",
       "...           ...     ...   ...     ...            ...      ...            ...\n",
       "2578          824       0     0       0              1        0              0\n",
       "2579         1223       0     0       1              0        0              0\n",
       "2580          887       0     0       1              0        0              0\n",
       "2581          864       0     0       0              1        0              0\n",
       "2582          724       0     0       0              1        0              0\n",
       "\n",
       "[2583 rows x 7 columns]"
      ]
     },
     "execution_count": 1158,
     "metadata": {},
     "output_type": "execute_result"
    }
   ],
   "source": [
    "df_x = pd.concat([relative,df_x], axis = 1)\n",
    "df_x"
   ]
  },
  {
   "cell_type": "code",
   "execution_count": 1159,
   "id": "cb6527e4",
   "metadata": {},
   "outputs": [
    {
     "data": {
      "text/plain": [
       "array([[ 344,    0,    0,    0,    0,    1,    0],\n",
       "       [1280,    0,    0,    0,    1,    0,    0],\n",
       "       [1545,    0,    0,    1,    0,    0,    0],\n",
       "       [1579,    0,    0,    1,    0,    0,    0],\n",
       "       [4923,    0,    0,    0,    1,    0,    0]])"
      ]
     },
     "execution_count": 1159,
     "metadata": {},
     "output_type": "execute_result"
    }
   ],
   "source": [
    "#turn dataframe into array\n",
    "X = df_x.to_numpy()\n",
    "X[:5]"
   ]
  },
  {
   "cell_type": "markdown",
   "id": "b5d34651",
   "metadata": {},
   "source": [
    "### Build a classifier"
   ]
  },
  {
   "cell_type": "code",
   "execution_count": 1176,
   "id": "81d9a55e",
   "metadata": {},
   "outputs": [
    {
     "data": {
      "text/plain": [
       "DecisionTreeClassifier(max_depth=3, random_state=0)"
      ]
     },
     "execution_count": 1176,
     "metadata": {},
     "output_type": "execute_result"
    }
   ],
   "source": [
    "#build a classifier\n",
    "clf = tree.DecisionTreeClassifier(random_state=0, max_depth=3)\n",
    "clf"
   ]
  },
  {
   "cell_type": "code",
   "execution_count": 1177,
   "id": "5bdbefdb",
   "metadata": {},
   "outputs": [
    {
     "data": {
      "text/plain": [
       "DecisionTreeClassifier(max_depth=3, random_state=0)"
      ]
     },
     "execution_count": 1177,
     "metadata": {},
     "output_type": "execute_result"
    }
   ],
   "source": [
    "#fit the classifier\n",
    "clf.fit(X, y)"
   ]
  },
  {
   "cell_type": "code",
   "execution_count": 1178,
   "id": "a87d1806",
   "metadata": {},
   "outputs": [
    {
     "data": {
      "text/plain": [
       "0.8312040263259776"
      ]
     },
     "execution_count": 1178,
     "metadata": {},
     "output_type": "execute_result"
    }
   ],
   "source": [
    "#Validate the classifier\n",
    "clf.score(X, y)"
   ]
  },
  {
   "cell_type": "code",
   "execution_count": 1179,
   "id": "951f7f04",
   "metadata": {},
   "outputs": [
    {
     "name": "stdout",
     "output_type": "stream",
     "text": [
      "['# Reactions', 'Africa', 'Asia', 'Europe', 'North America', 'Oceania', 'South America']\n"
     ]
    }
   ],
   "source": [
    "#feature names for the X\n",
    "feature_names = list(df_x.columns)\n",
    "print(feature_names)"
   ]
  },
  {
   "cell_type": "code",
   "execution_count": 1180,
   "id": "a914223a",
   "metadata": {},
   "outputs": [],
   "source": [
    "#class names for the Y\n",
    "class_names = [\"High income\",\"Upper middle income\",\"Lower middle income\",\"Low income\"]"
   ]
  },
  {
   "cell_type": "code",
   "execution_count": 1181,
   "id": "e14f6181",
   "metadata": {},
   "outputs": [
    {
     "name": "stderr",
     "output_type": "stream",
     "text": [
      "<ipython-input-1181-95624d11ed0f>:3: UserWarning: Matplotlib is currently using module://ipykernel.pylab.backend_inline, which is a non-GUI backend, so cannot show the figure.\n",
      "  fig.show()\n"
     ]
    },
    {
     "data": {
      "image/png": "[encoded data removed]",
      "text/plain": [
       "<Figure size 1440x720 with 1 Axes>"
      ]
     },
     "metadata": {
      "needs_background": "light"
     },
     "output_type": "display_data"
    }
   ],
   "source": [
    "fig = plt.figure(figsize=(20,10))\n",
    "tree.plot_tree(clf, feature_names = feature_names, class_names = class_names,fontsize=11)\n",
    "fig.show()"
   ]
  },
  {
   "cell_type": "markdown",
   "id": "9250a240",
   "metadata": {},
   "source": [
    "## Training model\n",
    "Using the sklearn library to create train/test splits of the data."
   ]
  },
  {
   "cell_type": "code",
   "execution_count": 1182,
   "id": "f86401fc",
   "metadata": {},
   "outputs": [],
   "source": [
    "from sklearn.model_selection import train_test_split\n",
    "X_train, X_test, y_train, y_test = train_test_split(X, y, test_size = 0.2, stratify=y, random_state = 42)"
   ]
  },
  {
   "cell_type": "code",
   "execution_count": 1183,
   "id": "22300483",
   "metadata": {},
   "outputs": [
    {
     "data": {
      "text/plain": [
       "0.816247582205029"
      ]
     },
     "execution_count": 1183,
     "metadata": {},
     "output_type": "execute_result"
    }
   ],
   "source": [
    "clf.fit(X_train, y_train)\n",
    "clf.score(X_test, y_test)"
   ]
  },
  {
   "cell_type": "markdown",
   "id": "b762fadf",
   "metadata": {},
   "source": [
    "# Grid Search for decision Tree\n",
    "This is use to find the best classifier for the tree"
   ]
  },
  {
   "cell_type": "code",
   "execution_count": 1184,
   "id": "84c8472e",
   "metadata": {},
   "outputs": [
    {
     "name": "stdout",
     "output_type": "stream",
     "text": [
      "Fitting 3 folds for each of 36 candidates, totalling 108 fits\n"
     ]
    }
   ],
   "source": [
    "# We will use only two parameters for the search\n",
    "grid_params = {'criterion':['gini','entropy'],\n",
    "               'max_depth':range(2,20)}\n",
    "\n",
    "\n",
    "# Initialize the gridsearch object\n",
    "gs = GridSearchCV(\n",
    "    tree.DecisionTreeClassifier(random_state=10),\n",
    "    grid_params,\n",
    "    verbose=1,         \n",
    "    cv=3               \n",
    ")\n",
    "\n",
    "# Perform fitting across all grid search candidates\n",
    "gs_results = gs.fit(X, y)"
   ]
  },
  {
   "cell_type": "code",
   "execution_count": 1185,
   "id": "887bb9fb",
   "metadata": {},
   "outputs": [
    {
     "name": "stdout",
     "output_type": "stream",
     "text": [
      "{'criterion': 'entropy', 'max_depth': 4}\n"
     ]
    }
   ],
   "source": [
    "#finds test best classifier for the tree\n",
    "for i, score in enumerate(gs_results.cv_results_['rank_test_score']):\n",
    "    if score == 1:\n",
    "        print(gs_results.cv_results_['params'][i])"
   ]
  },
  {
   "cell_type": "markdown",
   "id": "6d9e8536",
   "metadata": {},
   "source": [
    "#### The best classifer is wiht a max_depth of 4"
   ]
  },
  {
   "cell_type": "code",
   "execution_count": 1186,
   "id": "e82cb636",
   "metadata": {},
   "outputs": [
    {
     "name": "stderr",
     "output_type": "stream",
     "text": [
      "<ipython-input-1186-99839ebee793>:4: UserWarning: Matplotlib is currently using module://ipykernel.pylab.backend_inline, which is a non-GUI backend, so cannot show the figure.\n",
      "  fig.show()\n"
     ]
    },
    {
     "data": {
      "image/png": "[encoded data removed]",
      "text/plain": [
       "<Figure size 1440x720 with 1 Axes>"
      ]
     },
     "metadata": {
      "needs_background": "light"
     },
     "output_type": "display_data"
    }
   ],
   "source": [
    "tree.DecisionTreeClassifier(random_state=0, max_depth=4)\n",
    "fig = plt.figure(figsize=(20,10))\n",
    "tree.plot_tree(clf, feature_names = feature_names, class_names = class_names,fontsize=10)\n",
    "fig.show()"
   ]
  },
  {
   "cell_type": "markdown",
   "id": "ebe4ad74",
   "metadata": {},
   "source": [
    "### Cross Validate to ensure the model works"
   ]
  },
  {
   "cell_type": "code",
   "execution_count": 1187,
   "id": "6b12fa37",
   "metadata": {},
   "outputs": [],
   "source": [
    "from sklearn.model_selection import cross_validate, cross_val_predict"
   ]
  },
  {
   "cell_type": "code",
   "execution_count": 1188,
   "id": "4bb84437",
   "metadata": {},
   "outputs": [
    {
     "data": {
      "text/plain": [
       "{'fit_time': array([0.00596976, 0.00417304, 0.00387216, 0.002949  , 0.00306892]),\n",
       " 'score_time': array([0.00074005, 0.00064588, 0.00041175, 0.00047207, 0.00045586]),\n",
       " 'test_score': array([0.86653772, 0.80077369, 0.8065764 , 0.85077519, 0.84883721])}"
      ]
     },
     "execution_count": 1188,
     "metadata": {},
     "output_type": "execute_result"
    }
   ],
   "source": [
    "# First initialize the classifier\n",
    "decisiontree = tree.DecisionTreeClassifier(random_state=10, max_depth=5)\n",
    "\n",
    "\n",
    "# Perform cross-validation\n",
    "cv_results_cv = cross_validate(decisiontree, \n",
    "                                X,\n",
    "                                y,\n",
    "                                cv=5\n",
    "                                )\n",
    "# Show results\n",
    "cv_results_cv"
   ]
  },
  {
   "cell_type": "code",
   "execution_count": 1189,
   "id": "55ded45c",
   "metadata": {},
   "outputs": [
    {
     "data": {
      "text/plain": [
       "array([0, 0, 0, ..., 0, 0, 0])"
      ]
     },
     "execution_count": 1189,
     "metadata": {},
     "output_type": "execute_result"
    }
   ],
   "source": [
    "# Perform cross-validation\n",
    "cv_results_cvp = cross_val_predict(decisiontree, \n",
    "                                   X,\n",
    "                                   y,\n",
    "                                   cv=5\n",
    "                                   )\n",
    "# Show results\n",
    "cv_results_cvp"
   ]
  },
  {
   "cell_type": "markdown",
   "id": "07248d50",
   "metadata": {},
   "source": [
    "#### We achieve an average accuracy of 83.4%."
   ]
  },
  {
   "cell_type": "code",
   "execution_count": 1190,
   "id": "d6201ad3",
   "metadata": {},
   "outputs": [
    {
     "data": {
      "text/plain": [
       "0.8347000434828242"
      ]
     },
     "execution_count": 1190,
     "metadata": {},
     "output_type": "execute_result"
    }
   ],
   "source": [
    "average_accuracy = sum(cv_results_cv['test_score'])/len(cv_results_cv['test_score'])\n",
    "average_accuracy"
   ]
  },
  {
   "cell_type": "markdown",
   "id": "8a65ace0",
   "metadata": {},
   "source": [
    "## Confusion Matrix\n",
    "To find where the model has the least accuracy, we use ConfusionMatrixDisplay to find the percentages. "
   ]
  },
  {
   "cell_type": "code",
   "execution_count": 1191,
   "id": "2db319a1",
   "metadata": {},
   "outputs": [],
   "source": [
    "from sklearn.metrics import confusion_matrix, ConfusionMatrixDisplay"
   ]
  },
  {
   "cell_type": "code",
   "execution_count": 1192,
   "id": "6f83382a",
   "metadata": {},
   "outputs": [
    {
     "data": {
      "text/plain": [
       "<sklearn.metrics._plot.confusion_matrix.ConfusionMatrixDisplay at 0x7fe4cb59cd60>"
      ]
     },
     "execution_count": 1192,
     "metadata": {},
     "output_type": "execute_result"
    },
    {
     "data": {
      "image/png": "[encoded data removed]",
      "text/plain": [
       "<Figure size 432x288 with 2 Axes>"
      ]
     },
     "metadata": {
      "needs_background": "light"
     },
     "output_type": "display_data"
    }
   ],
   "source": [
    "cm = confusion_matrix(y, cv_results_cvp, normalize='true') #use normalize to compare with a percent\n",
    "cmd = ConfusionMatrixDisplay(cm,display_labels = clf.classes_)\n",
    "cmd.plot(cmap=\"Purples\")"
   ]
  }
 ],
 "metadata": {
  "kernelspec": {
   "display_name": "Python 3",
   "language": "python",
   "name": "python3"
  },
  "language_info": {
   "codemirror_mode": {
    "name": "ipython",
    "version": 3
   },
   "file_extension": ".py",
   "mimetype": "text/x-python",
   "name": "python",
   "nbconvert_exporter": "python",
   "pygments_lexer": "ipython3",
   "version": "3.8.8"
  }
 },
 "nbformat": 4,
 "nbformat_minor": 5
}
