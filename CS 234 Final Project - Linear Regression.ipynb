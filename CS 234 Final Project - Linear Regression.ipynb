{
 "cells": [
  {
   "cell_type": "markdown",
   "id": "53b240f3",
   "metadata": {},
   "source": [
    "# Linear Regression\n",
    "This is the final part of understanding the relationship between the income level of the countries mentioned and the number of engagement it receieves on Twitter."
   ]
  },
  {
   "cell_type": "code",
   "execution_count": 762,
   "id": "782e6adc",
   "metadata": {},
   "outputs": [],
   "source": [
    "import pandas as pd"
   ]
  },
  {
   "cell_type": "code",
   "execution_count": 763,
   "id": "86bd34dc",
   "metadata": {},
   "outputs": [],
   "source": [
    "reu_df = pd.read_csv(\"Reuters Countries.csv\") #read csv data"
   ]
  },
  {
   "cell_type": "code",
   "execution_count": 764,
   "id": "e2e6786d",
   "metadata": {},
   "outputs": [],
   "source": [
    "cnn_df = pd.read_csv(\"CNN Countries.csv\") #read csv data"
   ]
  },
  {
   "cell_type": "code",
   "execution_count": 765,
   "id": "bb0000c8",
   "metadata": {},
   "outputs": [],
   "source": [
    "bbc_df = pd.read_csv(\"BBC Countries.csv\") #read csv data"
   ]
  },
  {
   "cell_type": "code",
   "execution_count": 954,
   "id": "887b0c8d",
   "metadata": {},
   "outputs": [],
   "source": [
    "\"\"\"\n",
    "This function takes in the dataframe and updates the dataframe with the relative engagement of each country compare to the mean\n",
    "\"\"\"\n",
    "\n",
    "def engagement(dataframe):\n",
    "    mean = dataframe[\"# of Reactions\"].mean()\n",
    "    for index in range(0,len(dataframe)):\n",
    "        local_engagement = dataframe.at[index,\"# of Reactions\"]\n",
    "        dataframe.at[index,\"Relative_engagement\"] = round(local_engagement/mean,2)\n",
    "    return dataframe"
   ]
  },
  {
   "cell_type": "code",
   "execution_count": 955,
   "id": "4feb9313",
   "metadata": {},
   "outputs": [
    {
     "data": {
      "text/html": [
       "<div>\n",
       "<style scoped>\n",
       "    .dataframe tbody tr th:only-of-type {\n",
       "        vertical-align: middle;\n",
       "    }\n",
       "\n",
       "    .dataframe tbody tr th {\n",
       "        vertical-align: top;\n",
       "    }\n",
       "\n",
       "    .dataframe thead th {\n",
       "        text-align: right;\n",
       "    }\n",
       "</style>\n",
       "<table border=\"1\" class=\"dataframe\">\n",
       "  <thead>\n",
       "    <tr style=\"text-align: right;\">\n",
       "      <th></th>\n",
       "      <th>Unnamed: 0</th>\n",
       "      <th>Countries</th>\n",
       "      <th># of Reactions</th>\n",
       "      <th>Income Level</th>\n",
       "      <th>Relative_engagement</th>\n",
       "    </tr>\n",
       "  </thead>\n",
       "  <tbody>\n",
       "    <tr>\n",
       "      <th>0</th>\n",
       "      <td>0</td>\n",
       "      <td>Hungary</td>\n",
       "      <td>63.0</td>\n",
       "      <td>High income</td>\n",
       "      <td>0.46</td>\n",
       "    </tr>\n",
       "    <tr>\n",
       "      <th>1</th>\n",
       "      <td>1</td>\n",
       "      <td>Israel</td>\n",
       "      <td>112.0</td>\n",
       "      <td>High income</td>\n",
       "      <td>0.82</td>\n",
       "    </tr>\n",
       "    <tr>\n",
       "      <th>2</th>\n",
       "      <td>2</td>\n",
       "      <td>Latvia</td>\n",
       "      <td>77.0</td>\n",
       "      <td>High income</td>\n",
       "      <td>0.57</td>\n",
       "    </tr>\n",
       "    <tr>\n",
       "      <th>3</th>\n",
       "      <td>3</td>\n",
       "      <td>Sweden</td>\n",
       "      <td>221.0</td>\n",
       "      <td>High income</td>\n",
       "      <td>1.62</td>\n",
       "    </tr>\n",
       "    <tr>\n",
       "      <th>4</th>\n",
       "      <td>4</td>\n",
       "      <td>South Sudan</td>\n",
       "      <td>89.0</td>\n",
       "      <td>Low income</td>\n",
       "      <td>0.65</td>\n",
       "    </tr>\n",
       "  </tbody>\n",
       "</table>\n",
       "</div>"
      ],
      "text/plain": [
       "   Unnamed: 0    Countries  # of Reactions Income Level  Relative_engagement\n",
       "0           0      Hungary            63.0  High income                 0.46\n",
       "1           1       Israel           112.0  High income                 0.82\n",
       "2           2       Latvia            77.0  High income                 0.57\n",
       "3           3       Sweden           221.0  High income                 1.62\n",
       "4           4  South Sudan            89.0   Low income                 0.65"
      ]
     },
     "execution_count": 955,
     "metadata": {},
     "output_type": "execute_result"
    }
   ],
   "source": [
    "engagement(reu_df).head()"
   ]
  },
  {
   "cell_type": "code",
   "execution_count": 956,
   "id": "f16d521b",
   "metadata": {},
   "outputs": [
    {
     "data": {
      "text/html": [
       "<div>\n",
       "<style scoped>\n",
       "    .dataframe tbody tr th:only-of-type {\n",
       "        vertical-align: middle;\n",
       "    }\n",
       "\n",
       "    .dataframe tbody tr th {\n",
       "        vertical-align: top;\n",
       "    }\n",
       "\n",
       "    .dataframe thead th {\n",
       "        text-align: right;\n",
       "    }\n",
       "</style>\n",
       "<table border=\"1\" class=\"dataframe\">\n",
       "  <thead>\n",
       "    <tr style=\"text-align: right;\">\n",
       "      <th></th>\n",
       "      <th>Unnamed: 0</th>\n",
       "      <th>Countries</th>\n",
       "      <th># of Reactions</th>\n",
       "      <th>Income Level</th>\n",
       "      <th>Relative_engagement</th>\n",
       "    </tr>\n",
       "  </thead>\n",
       "  <tbody>\n",
       "    <tr>\n",
       "      <th>0</th>\n",
       "      <td>0</td>\n",
       "      <td>NaN</td>\n",
       "      <td>2978.0</td>\n",
       "      <td>High income</td>\n",
       "      <td>1.66</td>\n",
       "    </tr>\n",
       "    <tr>\n",
       "      <th>1</th>\n",
       "      <td>1</td>\n",
       "      <td>Qatar</td>\n",
       "      <td>2554.0</td>\n",
       "      <td>High income</td>\n",
       "      <td>1.42</td>\n",
       "    </tr>\n",
       "    <tr>\n",
       "      <th>2</th>\n",
       "      <td>2</td>\n",
       "      <td>Georgia</td>\n",
       "      <td>3718.0</td>\n",
       "      <td>Upper middle income</td>\n",
       "      <td>2.07</td>\n",
       "    </tr>\n",
       "    <tr>\n",
       "      <th>3</th>\n",
       "      <td>3</td>\n",
       "      <td>Ghana</td>\n",
       "      <td>318.0</td>\n",
       "      <td>Lower middle income</td>\n",
       "      <td>0.18</td>\n",
       "    </tr>\n",
       "    <tr>\n",
       "      <th>4</th>\n",
       "      <td>4</td>\n",
       "      <td>Egypt</td>\n",
       "      <td>1997.0</td>\n",
       "      <td>Lower middle income</td>\n",
       "      <td>1.11</td>\n",
       "    </tr>\n",
       "  </tbody>\n",
       "</table>\n",
       "</div>"
      ],
      "text/plain": [
       "   Unnamed: 0 Countries  # of Reactions         Income Level  \\\n",
       "0           0       NaN          2978.0          High income   \n",
       "1           1     Qatar          2554.0          High income   \n",
       "2           2   Georgia          3718.0  Upper middle income   \n",
       "3           3     Ghana           318.0  Lower middle income   \n",
       "4           4     Egypt          1997.0  Lower middle income   \n",
       "\n",
       "   Relative_engagement  \n",
       "0                 1.66  \n",
       "1                 1.42  \n",
       "2                 2.07  \n",
       "3                 0.18  \n",
       "4                 1.11  "
      ]
     },
     "execution_count": 956,
     "metadata": {},
     "output_type": "execute_result"
    }
   ],
   "source": [
    "engagement(cnn_df).head()"
   ]
  },
  {
   "cell_type": "code",
   "execution_count": 968,
   "id": "677bea2a",
   "metadata": {},
   "outputs": [],
   "source": [
    "cnn_df.to_csv(\"CNN Engagement.csv\") #for machine learning part"
   ]
  },
  {
   "cell_type": "code",
   "execution_count": 957,
   "id": "e4bf6f7f",
   "metadata": {},
   "outputs": [
    {
     "data": {
      "text/html": [
       "<div>\n",
       "<style scoped>\n",
       "    .dataframe tbody tr th:only-of-type {\n",
       "        vertical-align: middle;\n",
       "    }\n",
       "\n",
       "    .dataframe tbody tr th {\n",
       "        vertical-align: top;\n",
       "    }\n",
       "\n",
       "    .dataframe thead th {\n",
       "        text-align: right;\n",
       "    }\n",
       "</style>\n",
       "<table border=\"1\" class=\"dataframe\">\n",
       "  <thead>\n",
       "    <tr style=\"text-align: right;\">\n",
       "      <th></th>\n",
       "      <th>Unnamed: 0</th>\n",
       "      <th>Countries</th>\n",
       "      <th># of Reactions</th>\n",
       "      <th>Income Level</th>\n",
       "      <th>Relative_engagement</th>\n",
       "    </tr>\n",
       "  </thead>\n",
       "  <tbody>\n",
       "    <tr>\n",
       "      <th>0</th>\n",
       "      <td>0</td>\n",
       "      <td>Congo</td>\n",
       "      <td>2731.0</td>\n",
       "      <td>Low income</td>\n",
       "      <td>0.80</td>\n",
       "    </tr>\n",
       "    <tr>\n",
       "      <th>1</th>\n",
       "      <td>1</td>\n",
       "      <td>Kazakhstan</td>\n",
       "      <td>1526.0</td>\n",
       "      <td>Upper middle income</td>\n",
       "      <td>0.45</td>\n",
       "    </tr>\n",
       "    <tr>\n",
       "      <th>2</th>\n",
       "      <td>2</td>\n",
       "      <td>Cote</td>\n",
       "      <td>654.0</td>\n",
       "      <td>Lower middle income</td>\n",
       "      <td>0.19</td>\n",
       "    </tr>\n",
       "    <tr>\n",
       "      <th>3</th>\n",
       "      <td>3</td>\n",
       "      <td>Lao</td>\n",
       "      <td>3578.0</td>\n",
       "      <td>Lower middle income</td>\n",
       "      <td>1.05</td>\n",
       "    </tr>\n",
       "    <tr>\n",
       "      <th>4</th>\n",
       "      <td>4</td>\n",
       "      <td>Iceland</td>\n",
       "      <td>1095.0</td>\n",
       "      <td>High income</td>\n",
       "      <td>0.32</td>\n",
       "    </tr>\n",
       "  </tbody>\n",
       "</table>\n",
       "</div>"
      ],
      "text/plain": [
       "   Unnamed: 0   Countries  # of Reactions         Income Level  \\\n",
       "0           0       Congo          2731.0           Low income   \n",
       "1           1  Kazakhstan          1526.0  Upper middle income   \n",
       "2           2        Cote           654.0  Lower middle income   \n",
       "3           3         Lao          3578.0  Lower middle income   \n",
       "4           4     Iceland          1095.0          High income   \n",
       "\n",
       "   Relative_engagement  \n",
       "0                 0.80  \n",
       "1                 0.45  \n",
       "2                 0.19  \n",
       "3                 1.05  \n",
       "4                 0.32  "
      ]
     },
     "execution_count": 957,
     "metadata": {},
     "output_type": "execute_result"
    }
   ],
   "source": [
    "engagement(bbc_df).head()"
   ]
  },
  {
   "cell_type": "code",
   "execution_count": 958,
   "id": "2d1c2581",
   "metadata": {},
   "outputs": [],
   "source": [
    "cnn_lin = cnn_df[['Income Level','Relative_engagement']] #keep columns needed for x and y"
   ]
  },
  {
   "cell_type": "code",
   "execution_count": null,
   "id": "1338c3c3",
   "metadata": {},
   "outputs": [],
   "source": [
    "cnn_df = pd."
   ]
  },
  {
   "cell_type": "code",
   "execution_count": 959,
   "id": "6c4463b1",
   "metadata": {},
   "outputs": [],
   "source": [
    "bbc_lin = bbc_df[['Income Level','Relative_engagement']] #keep columns needed for x and y"
   ]
  },
  {
   "cell_type": "code",
   "execution_count": 960,
   "id": "6498b3b3",
   "metadata": {},
   "outputs": [],
   "source": [
    "reu_lin = reu_df[['Income Level','Relative_engagement']] #keep columns needed for x and y"
   ]
  },
  {
   "cell_type": "code",
   "execution_count": 961,
   "id": "a3808f35",
   "metadata": {},
   "outputs": [],
   "source": [
    "#concat all together \n",
    "all_lin = [cnn_lin, bbc_lin, reu_lin]\n",
    "lin_df = pd.concat(all_lin).reset_index()\n",
    "lin_df = lin_df.drop(columns = \"index\")\n",
    "\n",
    "lin_df.drop(lin_df[lin_df['Income Level'] == 'Aggregates'].index, inplace = True)\n",
    "lin_df.drop(lin_df[lin_df['Income Level'] == 'Not classified'].index, inplace = True)"
   ]
  },
  {
   "cell_type": "code",
   "execution_count": 962,
   "id": "d56374a9",
   "metadata": {},
   "outputs": [
    {
     "data": {
      "text/html": [
       "<div>\n",
       "<style scoped>\n",
       "    .dataframe tbody tr th:only-of-type {\n",
       "        vertical-align: middle;\n",
       "    }\n",
       "\n",
       "    .dataframe tbody tr th {\n",
       "        vertical-align: top;\n",
       "    }\n",
       "\n",
       "    .dataframe thead th {\n",
       "        text-align: right;\n",
       "    }\n",
       "</style>\n",
       "<table border=\"1\" class=\"dataframe\">\n",
       "  <thead>\n",
       "    <tr style=\"text-align: right;\">\n",
       "      <th></th>\n",
       "      <th>index</th>\n",
       "      <th>Income Level</th>\n",
       "      <th>Relative_engagement</th>\n",
       "    </tr>\n",
       "  </thead>\n",
       "  <tbody>\n",
       "    <tr>\n",
       "      <th>0</th>\n",
       "      <td>0</td>\n",
       "      <td>High income</td>\n",
       "      <td>1.66</td>\n",
       "    </tr>\n",
       "    <tr>\n",
       "      <th>1</th>\n",
       "      <td>1</td>\n",
       "      <td>High income</td>\n",
       "      <td>1.42</td>\n",
       "    </tr>\n",
       "    <tr>\n",
       "      <th>2</th>\n",
       "      <td>2</td>\n",
       "      <td>Upper middle income</td>\n",
       "      <td>2.07</td>\n",
       "    </tr>\n",
       "    <tr>\n",
       "      <th>3</th>\n",
       "      <td>3</td>\n",
       "      <td>Lower middle income</td>\n",
       "      <td>0.18</td>\n",
       "    </tr>\n",
       "    <tr>\n",
       "      <th>4</th>\n",
       "      <td>4</td>\n",
       "      <td>Lower middle income</td>\n",
       "      <td>1.11</td>\n",
       "    </tr>\n",
       "    <tr>\n",
       "      <th>...</th>\n",
       "      <td>...</td>\n",
       "      <td>...</td>\n",
       "      <td>...</td>\n",
       "    </tr>\n",
       "    <tr>\n",
       "      <th>286</th>\n",
       "      <td>291</td>\n",
       "      <td>Low income</td>\n",
       "      <td>0.70</td>\n",
       "    </tr>\n",
       "    <tr>\n",
       "      <th>287</th>\n",
       "      <td>292</td>\n",
       "      <td>Lower middle income</td>\n",
       "      <td>0.99</td>\n",
       "    </tr>\n",
       "    <tr>\n",
       "      <th>288</th>\n",
       "      <td>293</td>\n",
       "      <td>Lower middle income</td>\n",
       "      <td>0.62</td>\n",
       "    </tr>\n",
       "    <tr>\n",
       "      <th>289</th>\n",
       "      <td>294</td>\n",
       "      <td>Upper middle income</td>\n",
       "      <td>0.87</td>\n",
       "    </tr>\n",
       "    <tr>\n",
       "      <th>290</th>\n",
       "      <td>295</td>\n",
       "      <td>Upper middle income</td>\n",
       "      <td>1.17</td>\n",
       "    </tr>\n",
       "  </tbody>\n",
       "</table>\n",
       "<p>291 rows × 3 columns</p>\n",
       "</div>"
      ],
      "text/plain": [
       "     index         Income Level  Relative_engagement\n",
       "0        0          High income                 1.66\n",
       "1        1          High income                 1.42\n",
       "2        2  Upper middle income                 2.07\n",
       "3        3  Lower middle income                 0.18\n",
       "4        4  Lower middle income                 1.11\n",
       "..     ...                  ...                  ...\n",
       "286    291           Low income                 0.70\n",
       "287    292  Lower middle income                 0.99\n",
       "288    293  Lower middle income                 0.62\n",
       "289    294  Upper middle income                 0.87\n",
       "290    295  Upper middle income                 1.17\n",
       "\n",
       "[291 rows x 3 columns]"
      ]
     },
     "execution_count": 962,
     "metadata": {},
     "output_type": "execute_result"
    }
   ],
   "source": [
    "lin_df.reset_index()"
   ]
  },
  {
   "cell_type": "code",
   "execution_count": 963,
   "id": "8bc1c4ed",
   "metadata": {},
   "outputs": [],
   "source": [
    "lin_df = lin_df.rename(columns={'Income Level': 'Income_Level'})"
   ]
  },
  {
   "cell_type": "markdown",
   "id": "9cdbe1c1",
   "metadata": {},
   "source": [
    "## Plot Boxplot to demonstrate the distribution of engagement for each income level"
   ]
  },
  {
   "cell_type": "code",
   "execution_count": 964,
   "id": "7553e13b",
   "metadata": {},
   "outputs": [
    {
     "data": {
      "image/png": "[encoded data removed]",
      "text/plain": [
       "<Figure size 1080x576 with 1 Axes>"
      ]
     },
     "metadata": {},
     "output_type": "display_data"
    }
   ],
   "source": [
    "ax = sns.boxplot(x = \"Income_Level\", y = \"Relative_engagement\", data = lin_df)\n",
    "ax.set_title('Distribution of Engagement',fontweight='bold',fontsize=20)\n",
    "ax.set_xlabel('Income Level',fontweight = 'bold', fontsize=10)\n",
    "ax.set_ylabel('Relative engagement',fontweight = 'bold', fontsize=10)\n",
    "ax.figure.savefig(\"With Outliers.png\")"
   ]
  },
  {
   "cell_type": "code",
   "execution_count": 965,
   "id": "3f80a9a1",
   "metadata": {},
   "outputs": [
    {
     "data": {
      "image/png": "[encoded data removed]",
      "text/plain": [
       "<Figure size 1080x576 with 1 Axes>"
      ]
     },
     "metadata": {},
     "output_type": "display_data"
    }
   ],
   "source": [
    "ax = sns.boxplot(x = \"Income_Level\", y = \"Relative_engagement\", data = lin_df, showfliers = False)\n",
    "ax.set_title('Distribution of Engagement',fontweight='bold',fontsize=20)\n",
    "ax.set_xlabel('Income Level',fontweight = 'bold', fontsize=10)\n",
    "ax.set_ylabel('Relative engagement',fontweight = 'bold', fontsize=10)\n",
    "ax.figure.savefig(\"Without Outliers.png\")"
   ]
  },
  {
   "cell_type": "markdown",
   "id": "1c7fa11b",
   "metadata": {},
   "source": [
    "## OLS Regression Model\n",
    "\n",
    "This regressioin shows the relationship between Income Level (independent variable) and Level of Relative engagment (independent variable)."
   ]
  },
  {
   "cell_type": "code",
   "execution_count": 966,
   "id": "e6bc055e",
   "metadata": {},
   "outputs": [],
   "source": [
    "import statsmodels.formula.api as smf"
   ]
  },
  {
   "cell_type": "code",
   "execution_count": 967,
   "id": "42293d2b",
   "metadata": {},
   "outputs": [
    {
     "data": {
      "text/html": [
       "<table class=\"simpletable\">\n",
       "<caption>OLS Regression Results</caption>\n",
       "<tr>\n",
       "  <th>Dep. Variable:</th>    <td>Relative_engagement</td> <th>  R-squared:         </th> <td>   0.025</td>\n",
       "</tr>\n",
       "<tr>\n",
       "  <th>Model:</th>                    <td>OLS</td>         <th>  Adj. R-squared:    </th> <td>   0.015</td>\n",
       "</tr>\n",
       "<tr>\n",
       "  <th>Method:</th>              <td>Least Squares</td>    <th>  F-statistic:       </th> <td>   2.441</td>\n",
       "</tr>\n",
       "<tr>\n",
       "  <th>Date:</th>              <td>Thu, 23 Dec 2021</td>   <th>  Prob (F-statistic):</th>  <td>0.0645</td> \n",
       "</tr>\n",
       "<tr>\n",
       "  <th>Time:</th>                  <td>20:10:54</td>       <th>  Log-Likelihood:    </th> <td> -286.48</td>\n",
       "</tr>\n",
       "<tr>\n",
       "  <th>No. Observations:</th>       <td>   285</td>        <th>  AIC:               </th> <td>   581.0</td>\n",
       "</tr>\n",
       "<tr>\n",
       "  <th>Df Residuals:</th>           <td>   281</td>        <th>  BIC:               </th> <td>   595.6</td>\n",
       "</tr>\n",
       "<tr>\n",
       "  <th>Df Model:</th>               <td>     3</td>        <th>                     </th>     <td> </td>   \n",
       "</tr>\n",
       "<tr>\n",
       "  <th>Covariance Type:</th>       <td>nonrobust</td>      <th>                     </th>     <td> </td>   \n",
       "</tr>\n",
       "</table>\n",
       "<table class=\"simpletable\">\n",
       "<tr>\n",
       "                     <td></td>                       <th>coef</th>     <th>std err</th>      <th>t</th>      <th>P>|t|</th>  <th>[0.025</th>    <th>0.975]</th>  \n",
       "</tr>\n",
       "<tr>\n",
       "  <th>Intercept</th>                              <td>    1.0940</td> <td>    0.064</td> <td>   17.154</td> <td> 0.000</td> <td>    0.968</td> <td>    1.220</td>\n",
       "</tr>\n",
       "<tr>\n",
       "  <th>C(Income_Level)[T.Low income]</th>          <td>   -0.3027</td> <td>    0.119</td> <td>   -2.545</td> <td> 0.011</td> <td>   -0.537</td> <td>   -0.069</td>\n",
       "</tr>\n",
       "<tr>\n",
       "  <th>C(Income_Level)[T.Lower middle income]</th> <td>   -0.1554</td> <td>    0.104</td> <td>   -1.496</td> <td> 0.136</td> <td>   -0.360</td> <td>    0.049</td>\n",
       "</tr>\n",
       "<tr>\n",
       "  <th>C(Income_Level)[T.Upper middle income]</th> <td>   -0.0515</td> <td>    0.104</td> <td>   -0.496</td> <td> 0.621</td> <td>   -0.256</td> <td>    0.153</td>\n",
       "</tr>\n",
       "</table>\n",
       "<table class=\"simpletable\">\n",
       "<tr>\n",
       "  <th>Omnibus:</th>       <td>156.914</td> <th>  Durbin-Watson:     </th> <td>   2.127</td> \n",
       "</tr>\n",
       "<tr>\n",
       "  <th>Prob(Omnibus):</th> <td> 0.000</td>  <th>  Jarque-Bera (JB):  </th> <td> 972.067</td> \n",
       "</tr>\n",
       "<tr>\n",
       "  <th>Skew:</th>          <td> 2.231</td>  <th>  Prob(JB):          </th> <td>8.29e-212</td>\n",
       "</tr>\n",
       "<tr>\n",
       "  <th>Kurtosis:</th>      <td>10.871</td>  <th>  Cond. No.          </th> <td>    4.10</td> \n",
       "</tr>\n",
       "</table><br/><br/>Notes:<br/>[1] Standard Errors assume that the covariance matrix of the errors is correctly specified."
      ],
      "text/plain": [
       "<class 'statsmodels.iolib.summary.Summary'>\n",
       "\"\"\"\n",
       "                             OLS Regression Results                            \n",
       "===============================================================================\n",
       "Dep. Variable:     Relative_engagement   R-squared:                       0.025\n",
       "Model:                             OLS   Adj. R-squared:                  0.015\n",
       "Method:                  Least Squares   F-statistic:                     2.441\n",
       "Date:                 Thu, 23 Dec 2021   Prob (F-statistic):             0.0645\n",
       "Time:                         20:10:54   Log-Likelihood:                -286.48\n",
       "No. Observations:                  285   AIC:                             581.0\n",
       "Df Residuals:                      281   BIC:                             595.6\n",
       "Df Model:                            3                                         \n",
       "Covariance Type:             nonrobust                                         \n",
       "==========================================================================================================\n",
       "                                             coef    std err          t      P>|t|      [0.025      0.975]\n",
       "----------------------------------------------------------------------------------------------------------\n",
       "Intercept                                  1.0940      0.064     17.154      0.000       0.968       1.220\n",
       "C(Income_Level)[T.Low income]             -0.3027      0.119     -2.545      0.011      -0.537      -0.069\n",
       "C(Income_Level)[T.Lower middle income]    -0.1554      0.104     -1.496      0.136      -0.360       0.049\n",
       "C(Income_Level)[T.Upper middle income]    -0.0515      0.104     -0.496      0.621      -0.256       0.153\n",
       "==============================================================================\n",
       "Omnibus:                      156.914   Durbin-Watson:                   2.127\n",
       "Prob(Omnibus):                  0.000   Jarque-Bera (JB):              972.067\n",
       "Skew:                           2.231   Prob(JB):                    8.29e-212\n",
       "Kurtosis:                      10.871   Cond. No.                         4.10\n",
       "==============================================================================\n",
       "\n",
       "Notes:\n",
       "[1] Standard Errors assume that the covariance matrix of the errors is correctly specified.\n",
       "\"\"\""
      ]
     },
     "execution_count": 967,
     "metadata": {},
     "output_type": "execute_result"
    }
   ],
   "source": [
    "lm = smf.ols('Relative_engagement ~ C(Income_Level)', data = lin_df).fit()\n",
    "lm.summary()"
   ]
  },
  {
   "cell_type": "markdown",
   "id": "d2da3b9b",
   "metadata": {},
   "source": [
    "### OLS Result: \n",
    "From the table above, the omitted variable is \"High income\", thus, everything is relative to high income. There are few things to note from this table \n",
    "1) The only coefficient that is significant at a 95% Confidence Interval is the Low Income category, with a p-value of 0.01, which is less than 0.05. All other P-values are greater 0.05.\n",
    "\n",
    "2) The intercept 1.0940 is the mean relative engagement for High Income countries.\n",
    "\n",
    "3) We can interpret the coefficient as the following: \n",
    "- The coefficient for \"Low income\" is -0.3027. This means that low income countries gets 0.3027 unit lower in the level of relative engagement compared to high income countries. \n",
    "- The coefficient for \"Lower middle income\" is -0.1554. This means that lower middle income countries gets 0.1554 unit lower in the level of relative engagement compared to high income countries.\n",
    "- The coefficient for \"Upper middle income\" is -0.0515. This means that upper middle income countries gets 0.0515 unit lower in the level of relative engagement compared to high income countries.\n",
    "\n",
    "As the countries moves up the income level, it gets closer to the level of engagement that high income countries gets. However, only low income coefficient is statistically significant, so we cannot prove the causal relatinoship for others coefficients. "
   ]
  }
 ],
 "metadata": {
  "kernelspec": {
   "display_name": "Python 3",
   "language": "python",
   "name": "python3"
  },
  "language_info": {
   "codemirror_mode": {
    "name": "ipython",
    "version": 3
   },
   "file_extension": ".py",
   "mimetype": "text/x-python",
   "name": "python",
   "nbconvert_exporter": "python",
   "pygments_lexer": "ipython3",
   "version": "3.8.8"
  }
 },
 "nbformat": 4,
 "nbformat_minor": 5
}
